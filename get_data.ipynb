{
 "cells": [
  {
   "cell_type": "code",
   "execution_count": 1,
   "metadata": {},
   "outputs": [],
   "source": [
    "## Run this cell to add the parent directory to the path\n",
    "import sys,os\n",
    "pardir = os.path.abspath(os.path.join(os.getcwd(), os.pardir))\n",
    "sys.path.append(pardir)"
   ]
  },
  {
   "cell_type": "code",
   "execution_count": 2,
   "metadata": {},
   "outputs": [
    {
     "name": "stdout",
     "output_type": "stream",
     "text": [
      "List of endpoints:\n"
     ]
    },
    {
     "data": {
      "text/plain": [
       "['players',\n",
       " 'teams',\n",
       " 'draft_history',\n",
       " 'league_standings',\n",
       " 'league_game_log',\n",
       " 'scoreboard',\n",
       " 'box_score_traditional',\n",
       " 'box_score_advanced']"
      ]
     },
     "metadata": {},
     "output_type": "display_data"
    }
   ],
   "source": [
    "from scripts.get_data.nba_api_endpoints import LIST_OF_ENDPOINT_DICTS\n",
    "print('List of endpoints:')\n",
    "display([endpoint['name'] for endpoint in LIST_OF_ENDPOINT_DICTS])"
   ]
  },
  {
   "cell_type": "code",
   "execution_count": 4,
   "metadata": {},
   "outputs": [
    {
     "name": "stderr",
     "output_type": "stream",
     "text": [
      "c:\\Users\\Brandon\\dev\\repos\\basketball\\scripts\\get_data\\get_nba_api.py:135: DtypeWarning: Columns (10,11,12,13) have mixed types. Specify dtype option on import or set low_memory=False.\n",
      "  data = pd.read_csv(self.parent_csv_path)\n"
     ]
    },
    {
     "name": "stdout",
     "output_type": "stream",
     "text": [
      "Filtering game dates to those greater than 27700093\n",
      "Error occurred: Expecting value: line 1 column 1 (char 0). param_dict: {'game_id': '0027700094'}\n",
      "Retrying... (Attempt 1/3)\n"
     ]
    },
    {
     "ename": "KeyboardInterrupt",
     "evalue": "",
     "output_type": "error",
     "traceback": [
      "\u001b[1;31m---------------------------------------------------------------------------\u001b[0m",
      "\u001b[1;31mJSONDecodeError\u001b[0m                           Traceback (most recent call last)",
      "File \u001b[1;32mc:\\Users\\Brandon\\dev\\repos\\basketball\\scripts\\get_data\\call_api.py:19\u001b[0m, in \u001b[0;36mretry_api_call\u001b[1;34m(api_call, max_retries, endpoint, param_dict)\u001b[0m\n\u001b[0;32m     18\u001b[0m \u001b[39mtry\u001b[39;00m:\n\u001b[1;32m---> 19\u001b[0m     data \u001b[39m=\u001b[39m api_call()\n\u001b[0;32m     20\u001b[0m     \u001b[39m# Add a random delay between 0.5 and 1 second\u001b[39;00m\n",
      "File \u001b[1;32mc:\\Users\\Brandon\\dev\\repos\\basketball\\scripts\\get_data\\get_nba_api.py:210\u001b[0m, in \u001b[0;36mNBAAPI._call_endpoint.<locals>.api_call\u001b[1;34m()\u001b[0m\n\u001b[0;32m    209\u001b[0m     \u001b[39mreturn\u001b[39;00m \u001b[39mself\u001b[39m\u001b[39m.\u001b[39mendpoint()\n\u001b[1;32m--> 210\u001b[0m \u001b[39mreturn\u001b[39;00m \u001b[39mself\u001b[39;49m\u001b[39m.\u001b[39;49mendpoint(param_dict)\n",
      "File \u001b[1;32mc:\\Users\\Brandon\\dev\\repos\\basketball\\scripts\\get_data\\nba_api_endpoints.py:91\u001b[0m, in \u001b[0;36m<lambda>\u001b[1;34m(kwargs)\u001b[0m\n\u001b[0;32m     72\u001b[0m SCOREBOARD_DICT \u001b[39m=\u001b[39m {\n\u001b[0;32m     73\u001b[0m     \u001b[39m\"\u001b[39m\u001b[39mname\u001b[39m\u001b[39m\"\u001b[39m: \u001b[39m\"\u001b[39m\u001b[39mscoreboard\u001b[39m\u001b[39m\"\u001b[39m,\n\u001b[0;32m     74\u001b[0m     \u001b[39m\"\u001b[39m\u001b[39mendpoint\u001b[39m\u001b[39m\"\u001b[39m: \u001b[39mlambda\u001b[39;00m kwargs: scoreboardv2\u001b[39m.\u001b[39mScoreboardV2(\n\u001b[1;32m   (...)\u001b[0m\n\u001b[0;32m     86\u001b[0m     \u001b[39m\"\u001b[39m\u001b[39mcsv\u001b[39m\u001b[39m\"\u001b[39m: \u001b[39m\"\u001b[39m\u001b[39mscoreboard_data.csv\u001b[39m\u001b[39m\"\u001b[39m,\n\u001b[0;32m     87\u001b[0m }\n\u001b[0;32m     89\u001b[0m BOX_SCORE_TRADITIONAL_DICT \u001b[39m=\u001b[39m {\n\u001b[0;32m     90\u001b[0m     \u001b[39m\"\u001b[39m\u001b[39mname\u001b[39m\u001b[39m\"\u001b[39m: \u001b[39m\"\u001b[39m\u001b[39mbox_score_traditional\u001b[39m\u001b[39m\"\u001b[39m,\n\u001b[1;32m---> 91\u001b[0m     \u001b[39m\"\u001b[39m\u001b[39mendpoint\u001b[39m\u001b[39m\"\u001b[39m: \u001b[39mlambda\u001b[39;00m kwargs: boxscoretraditionalv2\u001b[39m.\u001b[39;49mBoxScoreTraditionalV2(\n\u001b[0;32m     92\u001b[0m         \u001b[39m*\u001b[39;49m\u001b[39m*\u001b[39;49mkwargs\n\u001b[0;32m     93\u001b[0m     )\u001b[39m.\u001b[39mplayer_stats\u001b[39m.\u001b[39mget_data_frame(),\n\u001b[0;32m     94\u001b[0m     \u001b[39m\"\u001b[39m\u001b[39mmain_loop_parameter\u001b[39m\u001b[39m\"\u001b[39m: \u001b[39m\"\u001b[39m\u001b[39mgame_id\u001b[39m\u001b[39m\"\u001b[39m,\n\u001b[0;32m     95\u001b[0m     \u001b[39m\"\u001b[39m\u001b[39mparent\u001b[39m\u001b[39m\"\u001b[39m: SCOREBOARD_DICT,\n\u001b[0;32m     96\u001b[0m     \u001b[39m\"\u001b[39m\u001b[39mparent_col\u001b[39m\u001b[39m\"\u001b[39m: \u001b[39m\"\u001b[39m\u001b[39mGAME_ID\u001b[39m\u001b[39m\"\u001b[39m,\n\u001b[0;32m     97\u001b[0m     \u001b[39m\"\u001b[39m\u001b[39mcurrent_col\u001b[39m\u001b[39m\"\u001b[39m: \u001b[39m\"\u001b[39m\u001b[39mGAME_ID\u001b[39m\u001b[39m\"\u001b[39m,\n\u001b[0;32m     98\u001b[0m     \u001b[39m\"\u001b[39m\u001b[39mmain_col_dtype\u001b[39m\u001b[39m\"\u001b[39m: \u001b[39m\"\u001b[39m\u001b[39mint\u001b[39m\u001b[39m\"\u001b[39m,\n\u001b[0;32m     99\u001b[0m     \u001b[39m\"\u001b[39m\u001b[39mmain_col_transform\u001b[39m\u001b[39m\"\u001b[39m: \u001b[39mlambda\u001b[39;00m x: \u001b[39mstr\u001b[39m(x)\u001b[39m.\u001b[39mzfill(\u001b[39m10\u001b[39m),\n\u001b[0;32m    100\u001b[0m     \u001b[39m\"\u001b[39m\u001b[39mcsv\u001b[39m\u001b[39m\"\u001b[39m: \u001b[39m\"\u001b[39m\u001b[39mbox_score_traditional_data.csv\u001b[39m\u001b[39m\"\u001b[39m,\n\u001b[0;32m    101\u001b[0m }\n\u001b[0;32m    103\u001b[0m BOX_SCORE_ADVANCED_DICT \u001b[39m=\u001b[39m {\n\u001b[0;32m    104\u001b[0m     \u001b[39m\"\u001b[39m\u001b[39mname\u001b[39m\u001b[39m\"\u001b[39m: \u001b[39m\"\u001b[39m\u001b[39mbox_score_advanced\u001b[39m\u001b[39m\"\u001b[39m,\n\u001b[0;32m    105\u001b[0m     \u001b[39m\"\u001b[39m\u001b[39mendpoint\u001b[39m\u001b[39m\"\u001b[39m: \u001b[39mlambda\u001b[39;00m kwargs: boxscoreadvancedv2\u001b[39m.\u001b[39mBoxScoreAdvancedV2(\n\u001b[1;32m   (...)\u001b[0m\n\u001b[0;32m    114\u001b[0m     \u001b[39m\"\u001b[39m\u001b[39mcsv\u001b[39m\u001b[39m\"\u001b[39m: \u001b[39m\"\u001b[39m\u001b[39mbox_score_advanced_data.csv\u001b[39m\u001b[39m\"\u001b[39m,\n\u001b[0;32m    115\u001b[0m }\n",
      "File \u001b[1;32mc:\\Users\\Brandon\\anaconda3\\envs\\nbai\\Lib\\site-packages\\nba_api\\stats\\endpoints\\boxscoretraditionalv2.py:40\u001b[0m, in \u001b[0;36mBoxScoreTraditionalV2.__init__\u001b[1;34m(self, game_id, end_period, end_range, range_type, start_period, start_range, proxy, headers, timeout, get_request)\u001b[0m\n\u001b[0;32m     39\u001b[0m \u001b[39mif\u001b[39;00m get_request:\n\u001b[1;32m---> 40\u001b[0m     \u001b[39mself\u001b[39;49m\u001b[39m.\u001b[39;49mget_request()\n",
      "File \u001b[1;32mc:\\Users\\Brandon\\anaconda3\\envs\\nbai\\Lib\\site-packages\\nba_api\\stats\\endpoints\\boxscoretraditionalv2.py:50\u001b[0m, in \u001b[0;36mBoxScoreTraditionalV2.get_request\u001b[1;34m(self)\u001b[0m\n\u001b[0;32m     43\u001b[0m \u001b[39mself\u001b[39m\u001b[39m.\u001b[39mnba_response \u001b[39m=\u001b[39m NBAStatsHTTP()\u001b[39m.\u001b[39msend_api_request(\n\u001b[0;32m     44\u001b[0m     endpoint\u001b[39m=\u001b[39m\u001b[39mself\u001b[39m\u001b[39m.\u001b[39mendpoint,\n\u001b[0;32m     45\u001b[0m     parameters\u001b[39m=\u001b[39m\u001b[39mself\u001b[39m\u001b[39m.\u001b[39mparameters,\n\u001b[1;32m   (...)\u001b[0m\n\u001b[0;32m     48\u001b[0m     timeout\u001b[39m=\u001b[39m\u001b[39mself\u001b[39m\u001b[39m.\u001b[39mtimeout,\n\u001b[0;32m     49\u001b[0m )\n\u001b[1;32m---> 50\u001b[0m \u001b[39mself\u001b[39;49m\u001b[39m.\u001b[39;49mload_response()\n",
      "File \u001b[1;32mc:\\Users\\Brandon\\anaconda3\\envs\\nbai\\Lib\\site-packages\\nba_api\\stats\\endpoints\\boxscoretraditionalv2.py:53\u001b[0m, in \u001b[0;36mBoxScoreTraditionalV2.load_response\u001b[1;34m(self)\u001b[0m\n\u001b[0;32m     52\u001b[0m \u001b[39mdef\u001b[39;00m \u001b[39mload_response\u001b[39m(\u001b[39mself\u001b[39m):\n\u001b[1;32m---> 53\u001b[0m     data_sets \u001b[39m=\u001b[39m \u001b[39mself\u001b[39;49m\u001b[39m.\u001b[39;49mnba_response\u001b[39m.\u001b[39;49mget_data_sets()\n\u001b[0;32m     54\u001b[0m     \u001b[39mself\u001b[39m\u001b[39m.\u001b[39mdata_sets \u001b[39m=\u001b[39m [Endpoint\u001b[39m.\u001b[39mDataSet(data\u001b[39m=\u001b[39mdata_set) \u001b[39mfor\u001b[39;00m data_set_name, data_set \u001b[39min\u001b[39;00m data_sets\u001b[39m.\u001b[39mitems()]\n",
      "File \u001b[1;32mc:\\Users\\Brandon\\anaconda3\\envs\\nbai\\Lib\\site-packages\\nba_api\\stats\\library\\http.py:83\u001b[0m, in \u001b[0;36mNBAStatsResponse.get_data_sets\u001b[1;34m(self)\u001b[0m\n\u001b[0;32m     82\u001b[0m \u001b[39mdef\u001b[39;00m \u001b[39mget_data_sets\u001b[39m(\u001b[39mself\u001b[39m):\n\u001b[1;32m---> 83\u001b[0m     raw_dict \u001b[39m=\u001b[39m \u001b[39mself\u001b[39;49m\u001b[39m.\u001b[39;49mget_dict()\n\u001b[0;32m     84\u001b[0m     \u001b[39mif\u001b[39;00m \u001b[39m'\u001b[39m\u001b[39mresultSets\u001b[39m\u001b[39m'\u001b[39m \u001b[39min\u001b[39;00m raw_dict:\n",
      "File \u001b[1;32mc:\\Users\\Brandon\\anaconda3\\envs\\nbai\\Lib\\site-packages\\nba_api\\library\\http.py:41\u001b[0m, in \u001b[0;36mNBAResponse.get_dict\u001b[1;34m(self)\u001b[0m\n\u001b[0;32m     40\u001b[0m \u001b[39mdef\u001b[39;00m \u001b[39mget_dict\u001b[39m(\u001b[39mself\u001b[39m):\n\u001b[1;32m---> 41\u001b[0m     \u001b[39mreturn\u001b[39;00m json\u001b[39m.\u001b[39;49mloads(\u001b[39mself\u001b[39;49m\u001b[39m.\u001b[39;49m_response)\n",
      "File \u001b[1;32mc:\\Users\\Brandon\\anaconda3\\envs\\nbai\\Lib\\json\\__init__.py:346\u001b[0m, in \u001b[0;36mloads\u001b[1;34m(s, cls, object_hook, parse_float, parse_int, parse_constant, object_pairs_hook, **kw)\u001b[0m\n\u001b[0;32m    343\u001b[0m \u001b[39mif\u001b[39;00m (\u001b[39mcls\u001b[39m \u001b[39mis\u001b[39;00m \u001b[39mNone\u001b[39;00m \u001b[39mand\u001b[39;00m object_hook \u001b[39mis\u001b[39;00m \u001b[39mNone\u001b[39;00m \u001b[39mand\u001b[39;00m\n\u001b[0;32m    344\u001b[0m         parse_int \u001b[39mis\u001b[39;00m \u001b[39mNone\u001b[39;00m \u001b[39mand\u001b[39;00m parse_float \u001b[39mis\u001b[39;00m \u001b[39mNone\u001b[39;00m \u001b[39mand\u001b[39;00m\n\u001b[0;32m    345\u001b[0m         parse_constant \u001b[39mis\u001b[39;00m \u001b[39mNone\u001b[39;00m \u001b[39mand\u001b[39;00m object_pairs_hook \u001b[39mis\u001b[39;00m \u001b[39mNone\u001b[39;00m \u001b[39mand\u001b[39;00m \u001b[39mnot\u001b[39;00m kw):\n\u001b[1;32m--> 346\u001b[0m     \u001b[39mreturn\u001b[39;00m _default_decoder\u001b[39m.\u001b[39;49mdecode(s)\n\u001b[0;32m    347\u001b[0m \u001b[39mif\u001b[39;00m \u001b[39mcls\u001b[39m \u001b[39mis\u001b[39;00m \u001b[39mNone\u001b[39;00m:\n",
      "File \u001b[1;32mc:\\Users\\Brandon\\anaconda3\\envs\\nbai\\Lib\\json\\decoder.py:337\u001b[0m, in \u001b[0;36mJSONDecoder.decode\u001b[1;34m(self, s, _w)\u001b[0m\n\u001b[0;32m    333\u001b[0m \u001b[39m\u001b[39m\u001b[39m\"\"\"Return the Python representation of ``s`` (a ``str`` instance\u001b[39;00m\n\u001b[0;32m    334\u001b[0m \u001b[39mcontaining a JSON document).\u001b[39;00m\n\u001b[0;32m    335\u001b[0m \n\u001b[0;32m    336\u001b[0m \u001b[39m\"\"\"\u001b[39;00m\n\u001b[1;32m--> 337\u001b[0m obj, end \u001b[39m=\u001b[39m \u001b[39mself\u001b[39;49m\u001b[39m.\u001b[39;49mraw_decode(s, idx\u001b[39m=\u001b[39;49m_w(s, \u001b[39m0\u001b[39;49m)\u001b[39m.\u001b[39;49mend())\n\u001b[0;32m    338\u001b[0m end \u001b[39m=\u001b[39m _w(s, end)\u001b[39m.\u001b[39mend()\n",
      "File \u001b[1;32mc:\\Users\\Brandon\\anaconda3\\envs\\nbai\\Lib\\json\\decoder.py:355\u001b[0m, in \u001b[0;36mJSONDecoder.raw_decode\u001b[1;34m(self, s, idx)\u001b[0m\n\u001b[0;32m    354\u001b[0m \u001b[39mexcept\u001b[39;00m \u001b[39mStopIteration\u001b[39;00m \u001b[39mas\u001b[39;00m err:\n\u001b[1;32m--> 355\u001b[0m     \u001b[39mraise\u001b[39;00m JSONDecodeError(\u001b[39m\"\u001b[39m\u001b[39mExpecting value\u001b[39m\u001b[39m\"\u001b[39m, s, err\u001b[39m.\u001b[39mvalue) \u001b[39mfrom\u001b[39;00m \u001b[39mNone\u001b[39;00m\n\u001b[0;32m    356\u001b[0m \u001b[39mreturn\u001b[39;00m obj, end\n",
      "\u001b[1;31mJSONDecodeError\u001b[0m: Expecting value: line 1 column 1 (char 0)",
      "\nDuring handling of the above exception, another exception occurred:\n",
      "\u001b[1;31mKeyboardInterrupt\u001b[0m                         Traceback (most recent call last)",
      "Cell \u001b[1;32mIn[4], line 6\u001b[0m\n\u001b[0;32m      3\u001b[0m LOAD_SPECIFIC_ENDPOINT \u001b[39m=\u001b[39m [\u001b[39m'\u001b[39m\u001b[39mbox_score_traditional\u001b[39m\u001b[39m'\u001b[39m, \u001b[39m'\u001b[39m\u001b[39mbox_score_advanced\u001b[39m\u001b[39m'\u001b[39m] \u001b[39m# e.g. ['box_score_traditional'], if empty list then all endpoints will be loaded\u001b[39;00m\n\u001b[0;32m      4\u001b[0m TEST \u001b[39m=\u001b[39m \u001b[39mFalse\u001b[39;00m\n\u001b[1;32m----> 6\u001b[0m retrieve_data(all_dates\u001b[39m=\u001b[39;49mLOAD_DATA_FOR_ALL_DATES, test\u001b[39m=\u001b[39;49mTEST, specific_endpoint_names\u001b[39m=\u001b[39;49mLOAD_SPECIFIC_ENDPOINT)\n",
      "File \u001b[1;32mc:\\Users\\Brandon\\dev\\repos\\basketball\\scripts\\get_data\\get_nba_api.py:45\u001b[0m, in \u001b[0;36mretrieve_data\u001b[1;34m(all_dates, test, specific_endpoint_names)\u001b[0m\n\u001b[0;32m     43\u001b[0m \u001b[39mfor\u001b[39;00m endpoint_dict \u001b[39min\u001b[39;00m _list_of_endpoint_dicts:\n\u001b[0;32m     44\u001b[0m     query_api \u001b[39m=\u001b[39m NBAAPI(endpoint_dict\u001b[39m=\u001b[39mendpoint_dict, all_dates\u001b[39m=\u001b[39mall_dates, test\u001b[39m=\u001b[39mtest)\n\u001b[1;32m---> 45\u001b[0m     query_api\u001b[39m.\u001b[39;49mfetch_data()\n\u001b[0;32m     46\u001b[0m \u001b[39mreturn\u001b[39;00m\n",
      "File \u001b[1;32mc:\\Users\\Brandon\\dev\\repos\\basketball\\scripts\\get_data\\get_nba_api.py:166\u001b[0m, in \u001b[0;36mNBAAPI.fetch_data\u001b[1;34m(self)\u001b[0m\n\u001b[0;32m    164\u001b[0m \u001b[39mif\u001b[39;00m \u001b[39mself\u001b[39m\u001b[39m.\u001b[39madditional_parameters \u001b[39mis\u001b[39;00m \u001b[39mNone\u001b[39;00m:\n\u001b[0;32m    165\u001b[0m     param_dict \u001b[39m=\u001b[39m {\u001b[39mself\u001b[39m\u001b[39m.\u001b[39mmain_loop_parameter: loop_value}\n\u001b[1;32m--> 166\u001b[0m     data \u001b[39m=\u001b[39m \u001b[39mself\u001b[39;49m\u001b[39m.\u001b[39;49m_call_endpoint(param_dict\u001b[39m=\u001b[39;49mparam_dict)\n\u001b[0;32m    167\u001b[0m \u001b[39melse\u001b[39;00m:\n\u001b[0;32m    168\u001b[0m     \u001b[39mfor\u001b[39;00m j, param_dict \u001b[39min\u001b[39;00m \u001b[39menumerate\u001b[39m(\n\u001b[0;32m    169\u001b[0m         \u001b[39mself\u001b[39m\u001b[39m.\u001b[39m_get_distinct_loop_combos(loop_value)\n\u001b[0;32m    170\u001b[0m     ):\n",
      "File \u001b[1;32mc:\\Users\\Brandon\\dev\\repos\\basketball\\scripts\\get_data\\get_nba_api.py:212\u001b[0m, in \u001b[0;36mNBAAPI._call_endpoint\u001b[1;34m(self, param_dict)\u001b[0m\n\u001b[0;32m    209\u001b[0m         \u001b[39mreturn\u001b[39;00m \u001b[39mself\u001b[39m\u001b[39m.\u001b[39mendpoint()\n\u001b[0;32m    210\u001b[0m     \u001b[39mreturn\u001b[39;00m \u001b[39mself\u001b[39m\u001b[39m.\u001b[39mendpoint(param_dict)\n\u001b[1;32m--> 212\u001b[0m data_frame \u001b[39m=\u001b[39m retry_api_call(\n\u001b[0;32m    213\u001b[0m     api_call, endpoint\u001b[39m=\u001b[39;49m\u001b[39mself\u001b[39;49m\u001b[39m.\u001b[39;49mendpoint, param_dict\u001b[39m=\u001b[39;49mparam_dict\n\u001b[0;32m    214\u001b[0m )\n\u001b[0;32m    215\u001b[0m data_frame \u001b[39m=\u001b[39m \u001b[39mself\u001b[39m\u001b[39m.\u001b[39m_add_params(data_frame, param_dict)\n\u001b[0;32m    216\u001b[0m \u001b[39mreturn\u001b[39;00m data_frame\n",
      "File \u001b[1;32mc:\\Users\\Brandon\\dev\\repos\\basketball\\scripts\\get_data\\call_api.py:28\u001b[0m, in \u001b[0;36mretry_api_call\u001b[1;34m(api_call, max_retries, endpoint, param_dict)\u001b[0m\n\u001b[0;32m     26\u001b[0m     retries \u001b[39m+\u001b[39m\u001b[39m=\u001b[39m \u001b[39m1\u001b[39m\n\u001b[0;32m     27\u001b[0m     \u001b[39mprint\u001b[39m(\u001b[39mf\u001b[39m\u001b[39m\"\u001b[39m\u001b[39mRetrying... (Attempt \u001b[39m\u001b[39m{\u001b[39;00mretries\u001b[39m}\u001b[39;00m\u001b[39m/\u001b[39m\u001b[39m{\u001b[39;00mmax_retries\u001b[39m}\u001b[39;00m\u001b[39m)\u001b[39m\u001b[39m\"\u001b[39m)\n\u001b[1;32m---> 28\u001b[0m     time\u001b[39m.\u001b[39;49msleep(WAIT_TIME)\n\u001b[0;32m     29\u001b[0m \u001b[39mexcept\u001b[39;00m \u001b[39mIndexError\u001b[39;00m \u001b[39mas\u001b[39;00m exc:\n\u001b[0;32m     30\u001b[0m     \u001b[39mprint\u001b[39m(\n\u001b[0;32m     31\u001b[0m         \u001b[39mf\u001b[39m\u001b[39m\"\u001b[39m\u001b[39mIndex Error occurred, possibly meaning that this API has no data for these params: \u001b[39m\u001b[39m{\u001b[39;00mexc\u001b[39m}\u001b[39;00m\u001b[39m\"\u001b[39m\n\u001b[0;32m     32\u001b[0m     )\n",
      "\u001b[1;31mKeyboardInterrupt\u001b[0m: "
     ]
    }
   ],
   "source": [
    "from scripts.get_data.get_nba_api import retrieve_data\n",
    "LOAD_DATA_FOR_ALL_DATES = True\n",
    "LOAD_SPECIFIC_ENDPOINT = ['box_score_traditional', 'box_score_advanced'] # e.g. ['box_score_traditional'], if empty list then all endpoints will be loaded\n",
    "TEST = False\n",
    "\n",
    "retrieve_data(all_dates=LOAD_DATA_FOR_ALL_DATES, test=TEST, specific_endpoint_names=LOAD_SPECIFIC_ENDPOINT)"
   ]
  }
 ],
 "metadata": {
  "kernelspec": {
   "display_name": "nbai",
   "language": "python",
   "name": "python3"
  },
  "language_info": {
   "codemirror_mode": {
    "name": "ipython",
    "version": 3
   },
   "file_extension": ".py",
   "mimetype": "text/x-python",
   "name": "python",
   "nbconvert_exporter": "python",
   "pygments_lexer": "ipython3",
   "version": "3.11.4"
  },
  "orig_nbformat": 4
 },
 "nbformat": 4,
 "nbformat_minor": 2
}
