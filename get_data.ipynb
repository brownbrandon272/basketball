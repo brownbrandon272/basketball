{
 "cells": [
  {
   "cell_type": "code",
   "execution_count": 1,
   "metadata": {},
   "outputs": [],
   "source": [
    "## Run this cell to add the parent directory to the path\n",
    "import sys,os\n",
    "pardir = os.path.abspath(os.path.join(os.getcwd(), os.pardir))\n",
    "sys.path.append(pardir)"
   ]
  },
  {
   "cell_type": "code",
   "execution_count": 2,
   "metadata": {},
   "outputs": [
    {
     "name": "stdout",
     "output_type": "stream",
     "text": [
      "List of endpoints:\n"
     ]
    },
    {
     "data": {
      "text/plain": [
       "['players',\n",
       " 'teams',\n",
       " 'draft_history',\n",
       " 'league_standings',\n",
       " 'league_game_log',\n",
       " 'scoreboard',\n",
       " 'box_score_traditional',\n",
       " 'box_score_advanced']"
      ]
     },
     "metadata": {},
     "output_type": "display_data"
    }
   ],
   "source": [
    "from scripts.get_data.nba_api_endpoints import LIST_OF_ENDPOINT_DICTS\n",
    "print('List of endpoints:')\n",
    "display([endpoint['name'] for endpoint in LIST_OF_ENDPOINT_DICTS])"
   ]
  },
  {
   "cell_type": "code",
   "execution_count": 4,
   "metadata": {},
   "outputs": [
    {
     "name": "stdout",
     "output_type": "stream",
     "text": [
      "[0][23:20:46] Data saved for players\n",
      "[0][23:20:46] Data saved for teams\n",
      "[0][23:20:47] Data saved for draft_history\n",
      "Filtering game dates to those greater than 1947\n",
      "[0][23:20:48] Data saved for league_standings, {'season': 1948}\n",
      "[1][23:20:48] Data saved for league_standings, {'season': 1949}\n",
      "Filtering game dates to those greater than 1947\n",
      "[0][23:20:50] Data saved for league_game_log, {'season_type_all_star': 'All-Star', 'season': 1948}\n",
      "[1][23:20:53] Data saved for league_game_log, {'season_type_all_star': 'All-Star', 'season': 1949}\n",
      "Filtering game dates to those greater than 1946-11-02 00:00:00\n",
      "[0][23:20:53] Data saved for scoreboard, {'game_date': '1946-11-03'}\n",
      "[1][23:20:53] Data saved for scoreboard, {'game_date': '1946-11-04'}\n",
      "Filtering game dates to those greater than 24600002\n",
      "[0][23:20:54] Data saved for box_score_traditional, {'game_id': '0024600003'}\n",
      "[1][23:20:54] Data saved for box_score_traditional, {'game_id': '0024600004'}\n",
      "No existing CSV file found for box_score_advanced endpoint. A new CSV file will be created.\n",
      "Getting all unique values of GAME_ID\n",
      "Index Error occurred, possibly meaning that this API has no data for these params: list index out of range\n",
      "[0][23:20:55] No data for box_score_advanced, {'game_id': '0024600001'}\n",
      "Index Error occurred, possibly meaning that this API has no data for these params: list index out of range\n",
      "[1][23:20:55] No data for box_score_advanced, {'game_id': '0024600002'}\n"
     ]
    }
   ],
   "source": [
    "from scripts.get_data.get_nba_api import retrieve_data\n",
    "LOAD_DATA_FOR_ALL_DATES = True\n",
    "LOAD_SPECIFIC_ENDPOINT = [] # e.g. ['box_score_traditional'], if empty list then all endpoints will be loaded\n",
    "TEST = False\n",
    "\n",
    "retrieve_data(all_dates=LOAD_DATA_FOR_ALL_DATES, test=TEST, specific_endpoint_names=LOAD_SPECIFIC_ENDPOINT)"
   ]
  }
 ],
 "metadata": {
  "kernelspec": {
   "display_name": "nbai",
   "language": "python",
   "name": "python3"
  },
  "language_info": {
   "codemirror_mode": {
    "name": "ipython",
    "version": 3
   },
   "file_extension": ".py",
   "mimetype": "text/x-python",
   "name": "python",
   "nbconvert_exporter": "python",
   "pygments_lexer": "ipython3",
   "version": "3.11.4"
  },
  "orig_nbformat": 4
 },
 "nbformat": 4,
 "nbformat_minor": 2
}
