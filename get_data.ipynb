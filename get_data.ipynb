{
 "cells": [
  {
   "cell_type": "code",
   "execution_count": 1,
   "metadata": {},
   "outputs": [],
   "source": [
    "## Run this cell to add the parent directory to the path\n",
    "import sys,os\n",
    "pardir = os.path.abspath(os.path.join(os.getcwd(), os.pardir))\n",
    "sys.path.append(pardir)"
   ]
  },
  {
   "cell_type": "code",
   "execution_count": 5,
   "metadata": {},
   "outputs": [
    {
     "name": "stdout",
     "output_type": "stream",
     "text": [
      "List of endpoints:\n"
     ]
    },
    {
     "data": {
      "text/plain": [
       "['players',\n",
       " 'teams',\n",
       " 'draft_history',\n",
       " 'league_standings',\n",
       " 'league_game_log',\n",
       " 'scoreboard',\n",
       " 'box_score_traditional',\n",
       " 'box_score_advanced']"
      ]
     },
     "metadata": {},
     "output_type": "display_data"
    }
   ],
   "source": [
    "from scripts.get_data.nba_api_endpoints import LIST_OF_ENDPOINT_DICTS\n",
    "print('List of endpoints:')\n",
    "display([endpoint['name'] for endpoint in LIST_OF_ENDPOINT_DICTS])"
   ]
  },
  {
   "cell_type": "code",
   "execution_count": null,
   "metadata": {},
   "outputs": [],
   "source": [
    "from scripts.get_data.get_nba_api import retrieve_data\n",
    "LOAD_DATA_FOR_ALL_DATES = True\n",
    "LOAD_SPECIFIC_ENDPOINT = [] # e.g. ['box_score_traditional'], if empty list then all endpoints will be loaded\n",
    "TEST = True\n",
    "\n",
    "retrieve_data(all_dates=LOAD_DATA_FOR_ALL_DATES, test=True, specific_endpoint_names=LOAD_SPECIFIC_ENDPOINT)"
   ]
  }
 ],
 "metadata": {
  "kernelspec": {
   "display_name": "nbai",
   "language": "python",
   "name": "python3"
  },
  "language_info": {
   "codemirror_mode": {
    "name": "ipython",
    "version": 3
   },
   "file_extension": ".py",
   "mimetype": "text/x-python",
   "name": "python",
   "nbconvert_exporter": "python",
   "pygments_lexer": "ipython3",
   "version": "3.11.4"
  },
  "orig_nbformat": 4
 },
 "nbformat": 4,
 "nbformat_minor": 2
}
