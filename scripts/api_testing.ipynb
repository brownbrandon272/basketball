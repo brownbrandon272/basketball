{
 "cells": [
  {
   "cell_type": "code",
   "execution_count": 1,
   "metadata": {},
   "outputs": [],
   "source": [
    "import sys,os\n",
    "pardir = os.path.abspath(os.path.join(os.getcwd(), os.pardir))\n",
    "sys.path.append(pardir)"
   ]
  },
  {
   "cell_type": "code",
   "execution_count": 3,
   "metadata": {},
   "outputs": [
    {
     "ename": "KeyError",
     "evalue": "None",
     "output_type": "error",
     "traceback": [
      "\u001b[1;31m---------------------------------------------------------------------------\u001b[0m",
      "\u001b[1;31mKeyError\u001b[0m                                  Traceback (most recent call last)",
      "File \u001b[1;32mc:\\Users\\BrandonBrown\\anaconda3\\envs\\test_x\\lib\\site-packages\\pandas\\core\\indexes\\base.py:3629\u001b[0m, in \u001b[0;36mIndex.get_loc\u001b[1;34m(self, key, method, tolerance)\u001b[0m\n\u001b[0;32m   3628\u001b[0m \u001b[39mtry\u001b[39;00m:\n\u001b[1;32m-> 3629\u001b[0m     \u001b[39mreturn\u001b[39;00m \u001b[39mself\u001b[39;49m\u001b[39m.\u001b[39;49m_engine\u001b[39m.\u001b[39;49mget_loc(casted_key)\n\u001b[0;32m   3630\u001b[0m \u001b[39mexcept\u001b[39;00m \u001b[39mKeyError\u001b[39;00m \u001b[39mas\u001b[39;00m err:\n",
      "File \u001b[1;32mc:\\Users\\BrandonBrown\\anaconda3\\envs\\test_x\\lib\\site-packages\\pandas\\_libs\\index.pyx:136\u001b[0m, in \u001b[0;36mpandas._libs.index.IndexEngine.get_loc\u001b[1;34m()\u001b[0m\n",
      "File \u001b[1;32mc:\\Users\\BrandonBrown\\anaconda3\\envs\\test_x\\lib\\site-packages\\pandas\\_libs\\index.pyx:163\u001b[0m, in \u001b[0;36mpandas._libs.index.IndexEngine.get_loc\u001b[1;34m()\u001b[0m\n",
      "File \u001b[1;32mpandas\\_libs\\hashtable_class_helper.pxi:5198\u001b[0m, in \u001b[0;36mpandas._libs.hashtable.PyObjectHashTable.get_item\u001b[1;34m()\u001b[0m\n",
      "File \u001b[1;32mpandas\\_libs\\hashtable_class_helper.pxi:5206\u001b[0m, in \u001b[0;36mpandas._libs.hashtable.PyObjectHashTable.get_item\u001b[1;34m()\u001b[0m\n",
      "\u001b[1;31mKeyError\u001b[0m: None",
      "\nThe above exception was the direct cause of the following exception:\n",
      "\u001b[1;31mKeyError\u001b[0m                                  Traceback (most recent call last)",
      "Cell \u001b[1;32mIn[3], line 5\u001b[0m\n\u001b[0;32m      2\u001b[0m LOAD_DATA_FOR_ALL_DATES \u001b[39m=\u001b[39m \u001b[39mTrue\u001b[39;00m\n\u001b[0;32m      3\u001b[0m LOAD_SPECIFIC_ENDPOINT \u001b[39m=\u001b[39m [] \u001b[39m# e.g. ['boxscoretraditionalv2'], if empty list then all endpoints will be loaded\u001b[39;00m\n\u001b[1;32m----> 5\u001b[0m retrieve_data(all_dates\u001b[39m=\u001b[39;49mLOAD_DATA_FOR_ALL_DATES, test\u001b[39m=\u001b[39;49m\u001b[39mTrue\u001b[39;49;00m, specific_endpoints\u001b[39m=\u001b[39;49mLOAD_SPECIFIC_ENDPOINT)\n",
      "File \u001b[1;32mc:\\Users\\BrandonBrown\\repos\\basketball\\scripts\\get_data\\get_nba_api.py:35\u001b[0m, in \u001b[0;36mretrieve_data\u001b[1;34m(all_dates, test, specific_endpoints)\u001b[0m\n\u001b[0;32m     30\u001b[0m             \u001b[39mraise\u001b[39;00m \u001b[39mValueError\u001b[39;00m(\n\u001b[0;32m     31\u001b[0m                 \u001b[39mf\u001b[39m\u001b[39m\"\u001b[39m\u001b[39m{\u001b[39;00mendpoint\u001b[39m}\u001b[39;00m\u001b[39m is not a valid endpoint\u001b[39m\u001b[39m\\n\u001b[39;00m\u001b[39mAvailable endpoints: \u001b[39m\u001b[39m{\u001b[39;00mendpoint_names\u001b[39m}\u001b[39;00m\u001b[39m\"\u001b[39m\n\u001b[0;32m     32\u001b[0m             )\n\u001b[0;32m     34\u001b[0m \u001b[39mfor\u001b[39;00m endpoint_dict \u001b[39min\u001b[39;00m specific_endpoints:\n\u001b[1;32m---> 35\u001b[0m     query_api \u001b[39m=\u001b[39m NBAAPI(endpoint_dict\u001b[39m=\u001b[39;49mendpoint_dict, all_dates\u001b[39m=\u001b[39;49mall_dates, test\u001b[39m=\u001b[39;49mtest)\n\u001b[0;32m     36\u001b[0m     query_api\u001b[39m.\u001b[39mfetch_data()\n\u001b[0;32m     37\u001b[0m \u001b[39mreturn\u001b[39;00m\n",
      "File \u001b[1;32mc:\\Users\\BrandonBrown\\repos\\basketball\\scripts\\get_data\\get_nba_api.py:64\u001b[0m, in \u001b[0;36mNBAAPI.__init__\u001b[1;34m(self, endpoint_dict, all_dates, test)\u001b[0m\n\u001b[0;32m     61\u001b[0m \u001b[39mself\u001b[39m\u001b[39m.\u001b[39mcurrent_col \u001b[39m=\u001b[39m endpoint_dict\u001b[39m.\u001b[39mget(\u001b[39m\"\u001b[39m\u001b[39mcurrent_col\u001b[39m\u001b[39m\"\u001b[39m)\n\u001b[0;32m     63\u001b[0m \u001b[39mself\u001b[39m\u001b[39m.\u001b[39mparent_csv_data \u001b[39m=\u001b[39m \u001b[39mself\u001b[39m\u001b[39m.\u001b[39m_load_parent_csv()\n\u001b[1;32m---> 64\u001b[0m \u001b[39mself\u001b[39m\u001b[39m.\u001b[39mcurrent_csv_data \u001b[39m=\u001b[39m \u001b[39mself\u001b[39;49m\u001b[39m.\u001b[39;49m_load_current_csv()\n\u001b[0;32m     65\u001b[0m \u001b[39mreturn\u001b[39;00m\n",
      "File \u001b[1;32mc:\\Users\\BrandonBrown\\repos\\basketball\\scripts\\get_data\\get_nba_api.py:70\u001b[0m, in \u001b[0;36mNBAAPI._load_current_csv\u001b[1;34m(self)\u001b[0m\n\u001b[0;32m     68\u001b[0m \u001b[39mtry\u001b[39;00m:\n\u001b[0;32m     69\u001b[0m     data \u001b[39m=\u001b[39m pd\u001b[39m.\u001b[39mread_csv(\u001b[39mself\u001b[39m\u001b[39m.\u001b[39mcurrent_csv_path)\n\u001b[1;32m---> 70\u001b[0m     data[\u001b[39mself\u001b[39m\u001b[39m.\u001b[39mcurrent_col] \u001b[39m=\u001b[39m data[\u001b[39mself\u001b[39;49m\u001b[39m.\u001b[39;49mcurrent_col]\u001b[39m.\u001b[39mastype(\u001b[39mself\u001b[39m\u001b[39m.\u001b[39mmain_col_dtype)\n\u001b[0;32m     71\u001b[0m     \u001b[39mreturn\u001b[39;00m data\n\u001b[0;32m     72\u001b[0m \u001b[39mexcept\u001b[39;00m \u001b[39mFileNotFoundError\u001b[39;00m:\n",
      "File \u001b[1;32mc:\\Users\\BrandonBrown\\anaconda3\\envs\\test_x\\lib\\site-packages\\pandas\\core\\frame.py:3505\u001b[0m, in \u001b[0;36mDataFrame.__getitem__\u001b[1;34m(self, key)\u001b[0m\n\u001b[0;32m   3503\u001b[0m \u001b[39mif\u001b[39;00m \u001b[39mself\u001b[39m\u001b[39m.\u001b[39mcolumns\u001b[39m.\u001b[39mnlevels \u001b[39m>\u001b[39m \u001b[39m1\u001b[39m:\n\u001b[0;32m   3504\u001b[0m     \u001b[39mreturn\u001b[39;00m \u001b[39mself\u001b[39m\u001b[39m.\u001b[39m_getitem_multilevel(key)\n\u001b[1;32m-> 3505\u001b[0m indexer \u001b[39m=\u001b[39m \u001b[39mself\u001b[39;49m\u001b[39m.\u001b[39;49mcolumns\u001b[39m.\u001b[39;49mget_loc(key)\n\u001b[0;32m   3506\u001b[0m \u001b[39mif\u001b[39;00m is_integer(indexer):\n\u001b[0;32m   3507\u001b[0m     indexer \u001b[39m=\u001b[39m [indexer]\n",
      "File \u001b[1;32mc:\\Users\\BrandonBrown\\anaconda3\\envs\\test_x\\lib\\site-packages\\pandas\\core\\indexes\\base.py:3631\u001b[0m, in \u001b[0;36mIndex.get_loc\u001b[1;34m(self, key, method, tolerance)\u001b[0m\n\u001b[0;32m   3629\u001b[0m     \u001b[39mreturn\u001b[39;00m \u001b[39mself\u001b[39m\u001b[39m.\u001b[39m_engine\u001b[39m.\u001b[39mget_loc(casted_key)\n\u001b[0;32m   3630\u001b[0m \u001b[39mexcept\u001b[39;00m \u001b[39mKeyError\u001b[39;00m \u001b[39mas\u001b[39;00m err:\n\u001b[1;32m-> 3631\u001b[0m     \u001b[39mraise\u001b[39;00m \u001b[39mKeyError\u001b[39;00m(key) \u001b[39mfrom\u001b[39;00m \u001b[39merr\u001b[39;00m\n\u001b[0;32m   3632\u001b[0m \u001b[39mexcept\u001b[39;00m \u001b[39mTypeError\u001b[39;00m:\n\u001b[0;32m   3633\u001b[0m     \u001b[39m# If we have a listlike key, _check_indexing_error will raise\u001b[39;00m\n\u001b[0;32m   3634\u001b[0m     \u001b[39m#  InvalidIndexError. Otherwise we fall through and re-raise\u001b[39;00m\n\u001b[0;32m   3635\u001b[0m     \u001b[39m#  the TypeError.\u001b[39;00m\n\u001b[0;32m   3636\u001b[0m     \u001b[39mself\u001b[39m\u001b[39m.\u001b[39m_check_indexing_error(key)\n",
      "\u001b[1;31mKeyError\u001b[0m: None"
     ]
    }
   ],
   "source": [
    "from scripts.get_data.get_nba_api import retrieve_data\n",
    "LOAD_DATA_FOR_ALL_DATES = True\n",
    "LOAD_SPECIFIC_ENDPOINT = [] # e.g. ['boxscoretraditionalv2'], if empty list then all endpoints will be loaded\n",
    "\n",
    "retrieve_data(all_dates=LOAD_DATA_FOR_ALL_DATES, test=True, specific_endpoints=LOAD_SPECIFIC_ENDPOINT)"
   ]
  },
  {
   "cell_type": "code",
   "execution_count": 5,
   "metadata": {},
   "outputs": [
    {
     "name": "stdout",
     "output_type": "stream",
     "text": [
      "{'n': 4, 'stop_n': 2}\n",
      "12\n",
      "{'n': 3, 'stop_n': 2}\n",
      "3\n",
      "{'n': 2, 'stop_n': 2}\n",
      "1\n",
      "{'n': 1, 'stop_n': 2}\n",
      "1\n"
     ]
    }
   ],
   "source": [
    "def factorial(n, stop_n=0):\n",
    "    if n <= stop_n:\n",
    "        return 1\n",
    "    return n * factorial(n - 1, stop_n=stop_n)\n",
    "    \n",
    "\n",
    "START = 4\n",
    "STOP = 2\n",
    "draft_history = {\n",
    "    \"endpoint\": factorial,\n",
    "    \"parameters\": {\"n\": None, \"stop_n\": STOP},\n",
    "    \"loop_parameter\": \"n\",\n",
    "}\n",
    "\n",
    "params = draft_history[\"parameters\"]\n",
    "for i in range(START, 0, -1):\n",
    "    params[\"n\"] = i\n",
    "    print(params)\n",
    "    print(draft_history[\"endpoint\"](**params))"
   ]
  },
  {
   "cell_type": "code",
   "execution_count": null,
   "metadata": {},
   "outputs": [],
   "source": [
    "dict1 = {\n",
    "    \"a\": [1, 2, 3],\n",
    "    \"b\": \"m\",\n",
    "    \"c\": [\"x\", \"y\"],\n",
    "}"
   ]
  },
  {
   "cell_type": "code",
   "execution_count": 13,
   "metadata": {},
   "outputs": [
    {
     "name": "stdout",
     "output_type": "stream",
     "text": [
      "[{'b': 'm', 'c': 'x'}, {'b': 'm', 'c': 'y'}, {'b': 'e', 'c': 'x'}, {'b': 'e', 'c': 'y'}]\n"
     ]
    }
   ],
   "source": [
    "from itertools import product\n",
    "\n",
    "dict1 = {\n",
    "    \"a\": [1, 2, 3],\n",
    "    \"b\": \"m\",\n",
    "    \"c\": [\"x\", \"y\"],\n",
    "}\n",
    "\n",
    "keys = dict1.keys()\n",
    "values = dict1.values()\n",
    "\n",
    "combinations = [dict(zip(keys, combination)) for combination in product(*values)]\n",
    "\n",
    "print(combinations)"
   ]
  },
  {
   "cell_type": "code",
   "execution_count": 1,
   "metadata": {},
   "outputs": [],
   "source": [
    "\n",
    "from nba_api.stats.static import teams\n",
    "from nba_api.stats.endpoints import leaguegamelog, scoreboardv2, boxscoretraditionalv2\n",
    "\n",
    "FIRST_SEASON = 1946  # team_df['year_founded'].min()\n",
    "LAST_SEASON = 2022\n",
    "\n",
    "seasons_dict = {\n",
    "    \"name\": \"seasons\",\n",
    "    \"first_season\": FIRST_SEASON,\n",
    "    \"last_season\": LAST_SEASON,\n",
    "}\n",
    "\n",
    "teams_dict = {\n",
    "    \"name\": \"teams\",\n",
    "    \"endpoint\": lambda kwargs: teams.get_teams(),\n",
    "    \"main_loop_parameter\": None,\n",
    "    \"parent\": None,\n",
    "    \"parent_col\": None,\n",
    "    \"csv\": \"teams_data.csv\",\n",
    "}\n",
    "\n",
    "league_game_log_dict = {\n",
    "    \"name\": \"league_game_log\",\n",
    "    \"endpoint\": lambda kwargs: leaguegamelog.LeagueGameLog(**kwargs).league_game_log,\n",
    "    \"main_loop_parameter\": \"season\",\n",
    "    \"parent\": teams_dict,\n",
    "    \"parent_col\": \"year_founded\",\n",
    "    \"main_col_dtype\": \"int\",\n",
    "    \"additional_parameters\": {\n",
    "        \"season_type_all_star\": [\"Regular Season\", \"Pre Season\", \"Playoffs\", \"All-Star\"]\n",
    "    },\n",
    "    \"csv\": \"game_log_data.csv\",\n",
    "}\n",
    "\n",
    "scoreboard_dict = {\n",
    "    \"name\": \"scoreboard\",\n",
    "    \"endpoint\": lambda kwargs: scoreboardv2.ScoreboardV2(**kwargs).game_header,\n",
    "    \"main_loop_parameter\": \"game_date\",\n",
    "    \"parent\": league_game_log_dict,\n",
    "    \"parent_col\": \"GAME_DATE_EST\",\n",
    "    \"current_col\": \"GAME_DATE\",\n",
    "    \"main_col_dtype\": \"datetime64[ns]\",\n",
    "    \"csv\": \"scoreboard_data.csv\",\n",
    "}\n",
    "\n",
    "box_score_traditional_dict = {\n",
    "    \"name\": \"box_score_traditional\",\n",
    "    \"endpoint\": lambda kwargs: boxscoretraditionalv2.BoxScoreTraditionalV2(\n",
    "        **kwargs\n",
    "    ).player_stats,\n",
    "    \"main_loop_parameter\": \"game_id\",\n",
    "    \"parent\": scoreboard_dict,\n",
    "    \"parent_col\": \"GAME_ID\",\n",
    "    \"main_col_dtype\": \"int\",\n",
    "    \"csv\": \"box_score_traditional_data.csv\",\n",
    "}"
   ]
  },
  {
   "cell_type": "code",
   "execution_count": null,
   "metadata": {},
   "outputs": [],
   "source": []
  }
 ],
 "metadata": {
  "kernelspec": {
   "display_name": "test_x",
   "language": "python",
   "name": "python3"
  },
  "language_info": {
   "codemirror_mode": {
    "name": "ipython",
    "version": 3
   },
   "file_extension": ".py",
   "mimetype": "text/x-python",
   "name": "python",
   "nbconvert_exporter": "python",
   "pygments_lexer": "ipython3",
   "version": "3.9.16"
  },
  "orig_nbformat": 4
 },
 "nbformat": 4,
 "nbformat_minor": 2
}
