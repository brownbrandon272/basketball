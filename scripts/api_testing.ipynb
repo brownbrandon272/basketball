{
 "cells": [
  {
   "cell_type": "code",
   "execution_count": null,
   "metadata": {},
   "outputs": [],
   "source": [
    "from scripts.get_data.get_nba_api import retrieve_data\n",
    "LOAD_DATA_FOR_ALL_DATES = True\n",
    "LOAD_SPECIFIC_ENDPOINT = '' # e.g. 'boxscoretraditionalv2', if empty string then all endpoints will be loaded\n",
    "\n",
    "retrieve_data(LOAD_DATA_FOR_ALL_DATES, LOAD_SPECIFIC_ENDPOINT)"
   ]
  },
  {
   "cell_type": "code",
   "execution_count": 5,
   "metadata": {},
   "outputs": [
    {
     "name": "stdout",
     "output_type": "stream",
     "text": [
      "{'n': 4, 'stop_n': 2}\n",
      "12\n",
      "{'n': 3, 'stop_n': 2}\n",
      "3\n",
      "{'n': 2, 'stop_n': 2}\n",
      "1\n",
      "{'n': 1, 'stop_n': 2}\n",
      "1\n"
     ]
    }
   ],
   "source": [
    "def factorial(n, stop_n=0):\n",
    "    if n <= stop_n:\n",
    "        return 1\n",
    "    return n * factorial(n - 1, stop_n=stop_n)\n",
    "    \n",
    "\n",
    "START = 4\n",
    "STOP = 2\n",
    "draft_history = {\n",
    "    \"endpoint\": factorial,\n",
    "    \"parameters\": {\"n\": None, \"stop_n\": STOP},\n",
    "    \"loop_parameter\": \"n\",\n",
    "}\n",
    "\n",
    "params = draft_history[\"parameters\"]\n",
    "for i in range(START, 0, -1):\n",
    "    params[\"n\"] = i\n",
    "    print(params)\n",
    "    print(draft_history[\"endpoint\"](**params))"
   ]
  },
  {
   "cell_type": "code",
   "execution_count": null,
   "metadata": {},
   "outputs": [],
   "source": [
    "dict1 = {\n",
    "    \"a\": [1, 2, 3],\n",
    "    \"b\": \"m\",\n",
    "    \"c\": [\"x\", \"y\"],\n",
    "}"
   ]
  },
  {
   "cell_type": "code",
   "execution_count": 13,
   "metadata": {},
   "outputs": [
    {
     "name": "stdout",
     "output_type": "stream",
     "text": [
      "[{'b': 'm', 'c': 'x'}, {'b': 'm', 'c': 'y'}, {'b': 'e', 'c': 'x'}, {'b': 'e', 'c': 'y'}]\n"
     ]
    }
   ],
   "source": [
    "from itertools import product\n",
    "\n",
    "dict1 = {\n",
    "    \"a\": [1, 2, 3],\n",
    "    \"b\": \"m\",\n",
    "    \"c\": [\"x\", \"y\"],\n",
    "}\n",
    "\n",
    "keys = dict1.keys()\n",
    "values = dict1.values()\n",
    "\n",
    "combinations = [dict(zip(keys, combination)) for combination in product(*values)]\n",
    "\n",
    "print(combinations)"
   ]
  }
 ],
 "metadata": {
  "kernelspec": {
   "display_name": "test_x",
   "language": "python",
   "name": "python3"
  },
  "language_info": {
   "codemirror_mode": {
    "name": "ipython",
    "version": 3
   },
   "file_extension": ".py",
   "mimetype": "text/x-python",
   "name": "python",
   "nbconvert_exporter": "python",
   "pygments_lexer": "ipython3",
   "version": "3.9.16"
  },
  "orig_nbformat": 4
 },
 "nbformat": 4,
 "nbformat_minor": 2
}
