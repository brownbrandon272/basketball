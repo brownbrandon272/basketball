{
 "cells": [
  {
   "cell_type": "code",
   "execution_count": 1,
   "metadata": {},
   "outputs": [],
   "source": [
    "import sys,os\n",
    "pardir = os.path.abspath(os.path.join(os.getcwd(), os.pardir))\n",
    "sys.path.append(pardir)"
   ]
  },
  {
   "cell_type": "code",
   "execution_count": 2,
   "metadata": {},
   "outputs": [
    {
     "name": "stdout",
     "output_type": "stream",
     "text": [
      "No existing CSV file found for players endpoint. A new CSV file will be created.\n"
     ]
    },
    {
     "ename": "TypeError",
     "evalue": "cannot concatenate object of type '<class 'list'>'; only Series and DataFrame objs are valid",
     "output_type": "error",
     "traceback": [
      "\u001b[1;31m---------------------------------------------------------------------------\u001b[0m",
      "\u001b[1;31mTypeError\u001b[0m                                 Traceback (most recent call last)",
      "Cell \u001b[1;32mIn[2], line 5\u001b[0m\n\u001b[0;32m      2\u001b[0m LOAD_DATA_FOR_ALL_DATES \u001b[39m=\u001b[39m \u001b[39mTrue\u001b[39;00m\n\u001b[0;32m      3\u001b[0m LOAD_SPECIFIC_ENDPOINT \u001b[39m=\u001b[39m [] \u001b[39m# e.g. ['boxscoretraditionalv2'], if empty list then all endpoints will be loaded\u001b[39;00m\n\u001b[1;32m----> 5\u001b[0m retrieve_data(all_dates\u001b[39m=\u001b[39;49mLOAD_DATA_FOR_ALL_DATES, test\u001b[39m=\u001b[39;49m\u001b[39mTrue\u001b[39;49;00m, specific_endpoints\u001b[39m=\u001b[39;49mLOAD_SPECIFIC_ENDPOINT)\n",
      "File \u001b[1;32mc:\\Users\\BrandonBrown\\repos\\basketball\\scripts\\get_data\\get_nba_api.py:36\u001b[0m, in \u001b[0;36mretrieve_data\u001b[1;34m(all_dates, test, specific_endpoints)\u001b[0m\n\u001b[0;32m     34\u001b[0m \u001b[39mfor\u001b[39;00m endpoint_dict \u001b[39min\u001b[39;00m specific_endpoints:\n\u001b[0;32m     35\u001b[0m     query_api \u001b[39m=\u001b[39m NBAAPI(endpoint_dict, all_dates, test)\n\u001b[1;32m---> 36\u001b[0m     query_api\u001b[39m.\u001b[39;49mfetch_data()\n\u001b[0;32m     37\u001b[0m \u001b[39mreturn\u001b[39;00m\n",
      "File \u001b[1;32mc:\\Users\\BrandonBrown\\repos\\basketball\\scripts\\get_data\\get_nba_api.py:99\u001b[0m, in \u001b[0;36mNBAAPI.fetch_data\u001b[1;34m(self)\u001b[0m\n\u001b[0;32m     97\u001b[0m \u001b[39mif\u001b[39;00m \u001b[39mself\u001b[39m\u001b[39m.\u001b[39mparent_dict \u001b[39mis\u001b[39;00m \u001b[39mNone\u001b[39;00m:\n\u001b[0;32m     98\u001b[0m     data \u001b[39m=\u001b[39m \u001b[39mself\u001b[39m\u001b[39m.\u001b[39m_call_endpoint()\n\u001b[1;32m---> 99\u001b[0m     \u001b[39mself\u001b[39;49m\u001b[39m.\u001b[39;49m_save_data(data)\n\u001b[0;32m    100\u001b[0m     \u001b[39mself\u001b[39m\u001b[39m.\u001b[39m_printer(\u001b[39mf\u001b[39m\u001b[39m\"\u001b[39m\u001b[39mData saved for \u001b[39m\u001b[39m{\u001b[39;00m\u001b[39mself\u001b[39m\u001b[39m.\u001b[39mname\u001b[39m}\u001b[39;00m\u001b[39m\"\u001b[39m)\n\u001b[0;32m    101\u001b[0m     \u001b[39mreturn\u001b[39;00m\n",
      "File \u001b[1;32mc:\\Users\\BrandonBrown\\repos\\basketball\\scripts\\get_data\\get_nba_api.py:144\u001b[0m, in \u001b[0;36mNBAAPI._save_data\u001b[1;34m(self, data)\u001b[0m\n\u001b[0;32m    142\u001b[0m \u001b[39mdef\u001b[39;00m \u001b[39m_save_data\u001b[39m(\u001b[39mself\u001b[39m, data):\n\u001b[0;32m    143\u001b[0m     \u001b[39m# Append 'scoreboard_data' to the existing CSV and export to a new CSV file\u001b[39;00m\n\u001b[1;32m--> 144\u001b[0m     \u001b[39mself\u001b[39m\u001b[39m.\u001b[39mcurrent_csv_data \u001b[39m=\u001b[39m pd\u001b[39m.\u001b[39;49mconcat(\n\u001b[0;32m    145\u001b[0m         [\u001b[39mself\u001b[39;49m\u001b[39m.\u001b[39;49mcurrent_csv_data, data], ignore_index\u001b[39m=\u001b[39;49m\u001b[39mTrue\u001b[39;49;00m\n\u001b[0;32m    146\u001b[0m     )\n\u001b[0;32m    147\u001b[0m     \u001b[39mself\u001b[39m\u001b[39m.\u001b[39mcurrent_csv_data\u001b[39m.\u001b[39mto_csv(\u001b[39mself\u001b[39m\u001b[39m.\u001b[39mcurrent_csv_path, index\u001b[39m=\u001b[39m\u001b[39mFalse\u001b[39;00m)\n\u001b[0;32m    148\u001b[0m     \u001b[39mreturn\u001b[39;00m\n",
      "File \u001b[1;32mc:\\Users\\BrandonBrown\\anaconda3\\envs\\test_x\\lib\\site-packages\\pandas\\util\\_decorators.py:311\u001b[0m, in \u001b[0;36mdeprecate_nonkeyword_arguments.<locals>.decorate.<locals>.wrapper\u001b[1;34m(*args, **kwargs)\u001b[0m\n\u001b[0;32m    305\u001b[0m \u001b[39mif\u001b[39;00m \u001b[39mlen\u001b[39m(args) \u001b[39m>\u001b[39m num_allow_args:\n\u001b[0;32m    306\u001b[0m     warnings\u001b[39m.\u001b[39mwarn(\n\u001b[0;32m    307\u001b[0m         msg\u001b[39m.\u001b[39mformat(arguments\u001b[39m=\u001b[39marguments),\n\u001b[0;32m    308\u001b[0m         \u001b[39mFutureWarning\u001b[39;00m,\n\u001b[0;32m    309\u001b[0m         stacklevel\u001b[39m=\u001b[39mstacklevel,\n\u001b[0;32m    310\u001b[0m     )\n\u001b[1;32m--> 311\u001b[0m \u001b[39mreturn\u001b[39;00m func(\u001b[39m*\u001b[39margs, \u001b[39m*\u001b[39m\u001b[39m*\u001b[39mkwargs)\n",
      "File \u001b[1;32mc:\\Users\\BrandonBrown\\anaconda3\\envs\\test_x\\lib\\site-packages\\pandas\\core\\reshape\\concat.py:347\u001b[0m, in \u001b[0;36mconcat\u001b[1;34m(objs, axis, join, ignore_index, keys, levels, names, verify_integrity, sort, copy)\u001b[0m\n\u001b[0;32m    143\u001b[0m \u001b[39m@deprecate_nonkeyword_arguments\u001b[39m(version\u001b[39m=\u001b[39m\u001b[39mNone\u001b[39;00m, allowed_args\u001b[39m=\u001b[39m[\u001b[39m\"\u001b[39m\u001b[39mobjs\u001b[39m\u001b[39m\"\u001b[39m])\n\u001b[0;32m    144\u001b[0m \u001b[39mdef\u001b[39;00m \u001b[39mconcat\u001b[39m(\n\u001b[0;32m    145\u001b[0m     objs: Iterable[NDFrame] \u001b[39m|\u001b[39m Mapping[Hashable, NDFrame],\n\u001b[1;32m   (...)\u001b[0m\n\u001b[0;32m    154\u001b[0m     copy: \u001b[39mbool\u001b[39m \u001b[39m=\u001b[39m \u001b[39mTrue\u001b[39;00m,\n\u001b[0;32m    155\u001b[0m ) \u001b[39m-\u001b[39m\u001b[39m>\u001b[39m DataFrame \u001b[39m|\u001b[39m Series:\n\u001b[0;32m    156\u001b[0m \u001b[39m    \u001b[39m\u001b[39m\"\"\"\u001b[39;00m\n\u001b[0;32m    157\u001b[0m \u001b[39m    Concatenate pandas objects along a particular axis with optional set logic\u001b[39;00m\n\u001b[0;32m    158\u001b[0m \u001b[39m    along the other axes.\u001b[39;00m\n\u001b[1;32m   (...)\u001b[0m\n\u001b[0;32m    345\u001b[0m \u001b[39m    ValueError: Indexes have overlapping values: ['a']\u001b[39;00m\n\u001b[0;32m    346\u001b[0m \u001b[39m    \"\"\"\u001b[39;00m\n\u001b[1;32m--> 347\u001b[0m     op \u001b[39m=\u001b[39m _Concatenator(\n\u001b[0;32m    348\u001b[0m         objs,\n\u001b[0;32m    349\u001b[0m         axis\u001b[39m=\u001b[39;49maxis,\n\u001b[0;32m    350\u001b[0m         ignore_index\u001b[39m=\u001b[39;49mignore_index,\n\u001b[0;32m    351\u001b[0m         join\u001b[39m=\u001b[39;49mjoin,\n\u001b[0;32m    352\u001b[0m         keys\u001b[39m=\u001b[39;49mkeys,\n\u001b[0;32m    353\u001b[0m         levels\u001b[39m=\u001b[39;49mlevels,\n\u001b[0;32m    354\u001b[0m         names\u001b[39m=\u001b[39;49mnames,\n\u001b[0;32m    355\u001b[0m         verify_integrity\u001b[39m=\u001b[39;49mverify_integrity,\n\u001b[0;32m    356\u001b[0m         copy\u001b[39m=\u001b[39;49mcopy,\n\u001b[0;32m    357\u001b[0m         sort\u001b[39m=\u001b[39;49msort,\n\u001b[0;32m    358\u001b[0m     )\n\u001b[0;32m    360\u001b[0m     \u001b[39mreturn\u001b[39;00m op\u001b[39m.\u001b[39mget_result()\n",
      "File \u001b[1;32mc:\\Users\\BrandonBrown\\anaconda3\\envs\\test_x\\lib\\site-packages\\pandas\\core\\reshape\\concat.py:437\u001b[0m, in \u001b[0;36m_Concatenator.__init__\u001b[1;34m(self, objs, axis, join, keys, levels, names, ignore_index, verify_integrity, copy, sort)\u001b[0m\n\u001b[0;32m    432\u001b[0m     \u001b[39mif\u001b[39;00m \u001b[39mnot\u001b[39;00m \u001b[39misinstance\u001b[39m(obj, (ABCSeries, ABCDataFrame)):\n\u001b[0;32m    433\u001b[0m         msg \u001b[39m=\u001b[39m (\n\u001b[0;32m    434\u001b[0m             \u001b[39mf\u001b[39m\u001b[39m\"\u001b[39m\u001b[39mcannot concatenate object of type \u001b[39m\u001b[39m'\u001b[39m\u001b[39m{\u001b[39;00m\u001b[39mtype\u001b[39m(obj)\u001b[39m}\u001b[39;00m\u001b[39m'\u001b[39m\u001b[39m; \u001b[39m\u001b[39m\"\u001b[39m\n\u001b[0;32m    435\u001b[0m             \u001b[39m\"\u001b[39m\u001b[39monly Series and DataFrame objs are valid\u001b[39m\u001b[39m\"\u001b[39m\n\u001b[0;32m    436\u001b[0m         )\n\u001b[1;32m--> 437\u001b[0m         \u001b[39mraise\u001b[39;00m \u001b[39mTypeError\u001b[39;00m(msg)\n\u001b[0;32m    439\u001b[0m     ndims\u001b[39m.\u001b[39madd(obj\u001b[39m.\u001b[39mndim)\n\u001b[0;32m    441\u001b[0m \u001b[39m# get the sample\u001b[39;00m\n\u001b[0;32m    442\u001b[0m \u001b[39m# want the highest ndim that we have, and must be non-empty\u001b[39;00m\n\u001b[0;32m    443\u001b[0m \u001b[39m# unless all objs are empty\u001b[39;00m\n",
      "\u001b[1;31mTypeError\u001b[0m: cannot concatenate object of type '<class 'list'>'; only Series and DataFrame objs are valid"
     ]
    }
   ],
   "source": [
    "from scripts.get_data.get_nba_api import retrieve_data\n",
    "LOAD_DATA_FOR_ALL_DATES = True\n",
    "LOAD_SPECIFIC_ENDPOINT = [] # e.g. ['boxscoretraditionalv2'], if empty list then all endpoints will be loaded\n",
    "\n",
    "retrieve_data(all_dates=LOAD_DATA_FOR_ALL_DATES, test=True, specific_endpoints=LOAD_SPECIFIC_ENDPOINT)"
   ]
  },
  {
   "cell_type": "code",
   "execution_count": 5,
   "metadata": {},
   "outputs": [
    {
     "name": "stdout",
     "output_type": "stream",
     "text": [
      "{'n': 4, 'stop_n': 2}\n",
      "12\n",
      "{'n': 3, 'stop_n': 2}\n",
      "3\n",
      "{'n': 2, 'stop_n': 2}\n",
      "1\n",
      "{'n': 1, 'stop_n': 2}\n",
      "1\n"
     ]
    }
   ],
   "source": [
    "def factorial(n, stop_n=0):\n",
    "    if n <= stop_n:\n",
    "        return 1\n",
    "    return n * factorial(n - 1, stop_n=stop_n)\n",
    "    \n",
    "\n",
    "START = 4\n",
    "STOP = 2\n",
    "draft_history = {\n",
    "    \"endpoint\": factorial,\n",
    "    \"parameters\": {\"n\": None, \"stop_n\": STOP},\n",
    "    \"loop_parameter\": \"n\",\n",
    "}\n",
    "\n",
    "params = draft_history[\"parameters\"]\n",
    "for i in range(START, 0, -1):\n",
    "    params[\"n\"] = i\n",
    "    print(params)\n",
    "    print(draft_history[\"endpoint\"](**params))"
   ]
  },
  {
   "cell_type": "code",
   "execution_count": null,
   "metadata": {},
   "outputs": [],
   "source": [
    "dict1 = {\n",
    "    \"a\": [1, 2, 3],\n",
    "    \"b\": \"m\",\n",
    "    \"c\": [\"x\", \"y\"],\n",
    "}"
   ]
  },
  {
   "cell_type": "code",
   "execution_count": 13,
   "metadata": {},
   "outputs": [
    {
     "name": "stdout",
     "output_type": "stream",
     "text": [
      "[{'b': 'm', 'c': 'x'}, {'b': 'm', 'c': 'y'}, {'b': 'e', 'c': 'x'}, {'b': 'e', 'c': 'y'}]\n"
     ]
    }
   ],
   "source": [
    "from itertools import product\n",
    "\n",
    "dict1 = {\n",
    "    \"a\": [1, 2, 3],\n",
    "    \"b\": \"m\",\n",
    "    \"c\": [\"x\", \"y\"],\n",
    "}\n",
    "\n",
    "keys = dict1.keys()\n",
    "values = dict1.values()\n",
    "\n",
    "combinations = [dict(zip(keys, combination)) for combination in product(*values)]\n",
    "\n",
    "print(combinations)"
   ]
  },
  {
   "cell_type": "code",
   "execution_count": 1,
   "metadata": {},
   "outputs": [],
   "source": [
    "\n",
    "from nba_api.stats.static import teams\n",
    "from nba_api.stats.endpoints import leaguegamelog, scoreboardv2, boxscoretraditionalv2\n",
    "\n",
    "FIRST_SEASON = 1946  # team_df['year_founded'].min()\n",
    "LAST_SEASON = 2022\n",
    "\n",
    "seasons_dict = {\n",
    "    \"name\": \"seasons\",\n",
    "    \"first_season\": FIRST_SEASON,\n",
    "    \"last_season\": LAST_SEASON,\n",
    "}\n",
    "\n",
    "teams_dict = {\n",
    "    \"name\": \"teams\",\n",
    "    \"endpoint\": lambda kwargs: teams.get_teams(),\n",
    "    \"main_loop_parameter\": None,\n",
    "    \"parent\": None,\n",
    "    \"parent_col\": None,\n",
    "    \"csv\": \"teams_data.csv\",\n",
    "}\n",
    "\n",
    "league_game_log_dict = {\n",
    "    \"name\": \"league_game_log\",\n",
    "    \"endpoint\": lambda kwargs: leaguegamelog.LeagueGameLog(**kwargs).league_game_log,\n",
    "    \"main_loop_parameter\": \"season\",\n",
    "    \"parent\": teams_dict,\n",
    "    \"parent_col\": \"year_founded\",\n",
    "    \"main_col_dtype\": \"int\",\n",
    "    \"additional_parameters\": {\n",
    "        \"season_type_all_star\": [\"Regular Season\", \"Pre Season\", \"Playoffs\", \"All-Star\"]\n",
    "    },\n",
    "    \"csv\": \"game_log_data.csv\",\n",
    "}\n",
    "\n",
    "scoreboard_dict = {\n",
    "    \"name\": \"scoreboard\",\n",
    "    \"endpoint\": lambda kwargs: scoreboardv2.ScoreboardV2(**kwargs).game_header,\n",
    "    \"main_loop_parameter\": \"game_date\",\n",
    "    \"parent\": league_game_log_dict,\n",
    "    \"parent_col\": \"GAME_DATE_EST\",\n",
    "    \"current_col\": \"GAME_DATE\",\n",
    "    \"main_col_dtype\": \"datetime64[ns]\",\n",
    "    \"csv\": \"scoreboard_data.csv\",\n",
    "}\n",
    "\n",
    "box_score_traditional_dict = {\n",
    "    \"name\": \"box_score_traditional\",\n",
    "    \"endpoint\": lambda kwargs: boxscoretraditionalv2.BoxScoreTraditionalV2(\n",
    "        **kwargs\n",
    "    ).player_stats,\n",
    "    \"main_loop_parameter\": \"game_id\",\n",
    "    \"parent\": scoreboard_dict,\n",
    "    \"parent_col\": \"GAME_ID\",\n",
    "    \"main_col_dtype\": \"int\",\n",
    "    \"csv\": \"box_score_traditional_data.csv\",\n",
    "}"
   ]
  },
  {
   "cell_type": "code",
   "execution_count": null,
   "metadata": {},
   "outputs": [],
   "source": []
  }
 ],
 "metadata": {
  "kernelspec": {
   "display_name": "test_x",
   "language": "python",
   "name": "python3"
  },
  "language_info": {
   "codemirror_mode": {
    "name": "ipython",
    "version": 3
   },
   "file_extension": ".py",
   "mimetype": "text/x-python",
   "name": "python",
   "nbconvert_exporter": "python",
   "pygments_lexer": "ipython3",
   "version": "3.9.16"
  },
  "orig_nbformat": 4
 },
 "nbformat": 4,
 "nbformat_minor": 2
}
