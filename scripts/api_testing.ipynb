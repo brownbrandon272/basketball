{
 "cells": [
  {
   "cell_type": "code",
   "execution_count": null,
   "metadata": {},
   "outputs": [],
   "source": [
    "from scripts.get_data.get_nba_api import retrieve_data\n",
    "LOAD_DATA_FOR_ALL_DATES = True\n",
    "LOAD_SPECIFIC_ENDPOINT = [] # e.g. ['boxscoretraditionalv2'], if empty list then all endpoints will be loaded\n",
    "\n",
    "retrieve_data(LOAD_DATA_FOR_ALL_DATES, LOAD_SPECIFIC_ENDPOINT)"
   ]
  },
  {
   "cell_type": "code",
   "execution_count": 5,
   "metadata": {},
   "outputs": [
    {
     "name": "stdout",
     "output_type": "stream",
     "text": [
      "{'n': 4, 'stop_n': 2}\n",
      "12\n",
      "{'n': 3, 'stop_n': 2}\n",
      "3\n",
      "{'n': 2, 'stop_n': 2}\n",
      "1\n",
      "{'n': 1, 'stop_n': 2}\n",
      "1\n"
     ]
    }
   ],
   "source": [
    "def factorial(n, stop_n=0):\n",
    "    if n <= stop_n:\n",
    "        return 1\n",
    "    return n * factorial(n - 1, stop_n=stop_n)\n",
    "    \n",
    "\n",
    "START = 4\n",
    "STOP = 2\n",
    "draft_history = {\n",
    "    \"endpoint\": factorial,\n",
    "    \"parameters\": {\"n\": None, \"stop_n\": STOP},\n",
    "    \"loop_parameter\": \"n\",\n",
    "}\n",
    "\n",
    "params = draft_history[\"parameters\"]\n",
    "for i in range(START, 0, -1):\n",
    "    params[\"n\"] = i\n",
    "    print(params)\n",
    "    print(draft_history[\"endpoint\"](**params))"
   ]
  },
  {
   "cell_type": "code",
   "execution_count": null,
   "metadata": {},
   "outputs": [],
   "source": [
    "dict1 = {\n",
    "    \"a\": [1, 2, 3],\n",
    "    \"b\": \"m\",\n",
    "    \"c\": [\"x\", \"y\"],\n",
    "}"
   ]
  },
  {
   "cell_type": "code",
   "execution_count": 13,
   "metadata": {},
   "outputs": [
    {
     "name": "stdout",
     "output_type": "stream",
     "text": [
      "[{'b': 'm', 'c': 'x'}, {'b': 'm', 'c': 'y'}, {'b': 'e', 'c': 'x'}, {'b': 'e', 'c': 'y'}]\n"
     ]
    }
   ],
   "source": [
    "from itertools import product\n",
    "\n",
    "dict1 = {\n",
    "    \"a\": [1, 2, 3],\n",
    "    \"b\": \"m\",\n",
    "    \"c\": [\"x\", \"y\"],\n",
    "}\n",
    "\n",
    "keys = dict1.keys()\n",
    "values = dict1.values()\n",
    "\n",
    "combinations = [dict(zip(keys, combination)) for combination in product(*values)]\n",
    "\n",
    "print(combinations)"
   ]
  },
  {
   "cell_type": "code",
   "execution_count": 1,
   "metadata": {},
   "outputs": [],
   "source": [
    "\n",
    "from nba_api.stats.static import teams\n",
    "from nba_api.stats.endpoints import leaguegamelog, scoreboardv2, boxscoretraditionalv2\n",
    "\n",
    "FIRST_SEASON = 1946  # team_df['year_founded'].min()\n",
    "LAST_SEASON = 2022\n",
    "\n",
    "seasons_dict = {\n",
    "    \"name\": \"seasons\",\n",
    "    \"first_season\": FIRST_SEASON,\n",
    "    \"last_season\": LAST_SEASON,\n",
    "}\n",
    "\n",
    "teams_dict = {\n",
    "    \"name\": \"teams\",\n",
    "    \"endpoint\": lambda kwargs: teams.get_teams(),\n",
    "    \"main_loop_parameter\": None,\n",
    "    \"parent\": None,\n",
    "    \"parent_col\": None,\n",
    "    \"csv\": \"teams_data.csv\",\n",
    "}\n",
    "\n",
    "league_game_log_dict = {\n",
    "    \"name\": \"league_game_log\",\n",
    "    \"endpoint\": lambda kwargs: leaguegamelog.LeagueGameLog(**kwargs).league_game_log,\n",
    "    \"main_loop_parameter\": \"season\",\n",
    "    \"parent\": teams_dict,\n",
    "    \"parent_col\": \"year_founded\",\n",
    "    \"main_col_dtype\": \"int\",\n",
    "    \"additional_parameters\": {\n",
    "        \"season_type_all_star\": [\"Regular Season\", \"Pre Season\", \"Playoffs\", \"All-Star\"]\n",
    "    },\n",
    "    \"csv\": \"game_log_data.csv\",\n",
    "}\n",
    "\n",
    "scoreboard_dict = {\n",
    "    \"name\": \"scoreboard\",\n",
    "    \"endpoint\": lambda kwargs: scoreboardv2.ScoreboardV2(**kwargs).game_header,\n",
    "    \"main_loop_parameter\": \"game_date\",\n",
    "    \"parent\": league_game_log_dict,\n",
    "    \"parent_col\": \"GAME_DATE_EST\",\n",
    "    \"current_col\": \"GAME_DATE\",\n",
    "    \"main_col_dtype\": \"datetime64[ns]\",\n",
    "    \"csv\": \"scoreboard_data.csv\",\n",
    "}\n",
    "\n",
    "box_score_traditional_dict = {\n",
    "    \"name\": \"box_score_traditional\",\n",
    "    \"endpoint\": lambda kwargs: boxscoretraditionalv2.BoxScoreTraditionalV2(\n",
    "        **kwargs\n",
    "    ).player_stats,\n",
    "    \"main_loop_parameter\": \"game_id\",\n",
    "    \"parent\": scoreboard_dict,\n",
    "    \"parent_col\": \"GAME_ID\",\n",
    "    \"main_col_dtype\": \"int\",\n",
    "    \"csv\": \"box_score_traditional_data.csv\",\n",
    "}"
   ]
  },
  {
   "cell_type": "code",
   "execution_count": null,
   "metadata": {},
   "outputs": [],
   "source": []
  }
 ],
 "metadata": {
  "kernelspec": {
   "display_name": "test_x",
   "language": "python",
   "name": "python3"
  },
  "language_info": {
   "codemirror_mode": {
    "name": "ipython",
    "version": 3
   },
   "file_extension": ".py",
   "mimetype": "text/x-python",
   "name": "python",
   "nbconvert_exporter": "python",
   "pygments_lexer": "ipython3",
   "version": "3.9.16"
  },
  "orig_nbformat": 4
 },
 "nbformat": 4,
 "nbformat_minor": 2
}
